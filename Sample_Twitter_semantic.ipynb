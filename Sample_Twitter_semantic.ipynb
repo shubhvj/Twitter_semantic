{
 "cells": [
  {
   "cell_type": "code",
   "execution_count": 15,
   "metadata": {},
   "outputs": [
    {
     "name": "stdout",
     "output_type": "stream",
     "text": [
      "Collecting tweepy\n",
      "  Downloading tweepy-3.5.0-py2.py3-none-any.whl\n",
      "Requirement already satisfied: requests>=2.4.3 in c:\\users\\bond\\anaconda3\\lib\\site-packages (from tweepy)\n",
      "Requirement already satisfied: six>=1.7.3 in c:\\users\\bond\\anaconda3\\lib\\site-packages (from tweepy)\n",
      "Requirement already satisfied: requests-oauthlib>=0.4.1 in c:\\users\\bond\\anaconda3\\lib\\site-packages (from tweepy)\n",
      "Requirement already satisfied: oauthlib>=0.6.2 in c:\\users\\bond\\anaconda3\\lib\\site-packages (from requests-oauthlib>=0.4.1->tweepy)\n",
      "Installing collected packages: tweepy\n",
      "Successfully installed tweepy-3.5.0\n"
     ]
    }
   ],
   "source": [
    "! pip install tweepy"
   ]
  },
  {
   "cell_type": "code",
   "execution_count": 26,
   "metadata": {},
   "outputs": [
    {
     "name": "stdout",
     "output_type": "stream",
     "text": [
      "Requirement already satisfied: TextBlob in c:\\users\\bond\\anaconda3\\lib\\site-packages\n",
      "Requirement already satisfied: nltk>=3.1 in c:\\users\\bond\\anaconda3\\lib\\site-packages (from TextBlob)\n",
      "Requirement already satisfied: six in c:\\users\\bond\\anaconda3\\lib\\site-packages (from nltk>=3.1->TextBlob)\n"
     ]
    }
   ],
   "source": [
    "! pip install TextBlob"
   ]
  },
  {
   "cell_type": "code",
   "execution_count": 30,
   "metadata": {},
   "outputs": [],
   "source": [
    "from textblob import TextBlob"
   ]
  },
  {
   "cell_type": "code",
   "execution_count": 18,
   "metadata": {},
   "outputs": [],
   "source": [
    "import tweepy\n",
    "consumer_key=\"E9U6d3yC1FeUOTCyAJ6QYdtTd\"\n",
    "consumer_secret=\"RdLkl8woVtMtnKyi6C0nxVwajhXuMB6V4xkHPZpd8uXxRd3dhZ\"\n",
    "\n",
    "access_token=\"1332351500-mn42irr090UkFYMYN4QuuSTdl0pCk2QDRgmRGtu\"\n",
    "access_token_secret=\"NFsSlrljVafqT0Rvg2sw5HWXg61Yld1qiDSW0n37fTiN4\"\n"
   ]
  },
  {
   "cell_type": "code",
   "execution_count": 24,
   "metadata": {},
   "outputs": [],
   "source": [
    "auth = tweepy.OAuthHandler(consumer_key,consumer_secret)\n",
    "auth.set_access_token(access_token,access_token_secret)\n",
    "\n",
    "api=tweepy.API(auth)"
   ]
  },
  {
   "cell_type": "code",
   "execution_count": 35,
   "metadata": {},
   "outputs": [
    {
     "name": "stdout",
     "output_type": "stream",
     "text": [
      "RT @kapsology: This is school in Vadnagar, home town of PM of India, who was CM for 15 years of that state.\n",
      "Now compare it with Delhi Govt…\n",
      "Sentiment(polarity=0.0, subjectivity=0.0)\n",
      "https://t.co/OORxBqrsny 🔥 നിയമസഭാംഗത്തെ കൊലപ്പെടുത്തിയ കേസില്‍ ജാര്‍ഖണ്ഡ് മുന്‍മന്ത്രി അറസ്റ്റില്‍🔥 👉 കൂടുതൽ വാർത്തകൾക്കും ചിത്രങ്ങൾക്കും …\n",
      "Sentiment(polarity=0.0, subjectivity=0.0)\n",
      "Cointelegraph A small self-drive rental firm in India has raised $10 mln in funds, accepts... https://t.co/sWHPTYh8zK [in case you missed …\n",
      "Sentiment(polarity=-0.225, subjectivity=0.4)\n",
      "FIFA U-17 World Cup 2017, India vs Colombia, Football match LIVE Score: Both teams in a… https://t.co/MAyB85t1jc\n",
      "Sentiment(polarity=0.13636363636363635, subjectivity=0.5)\n",
      "Mithali Raj credits World Cup journey for raising women's cricket profile - Cricbuzz https://t.co/0KjHV6kCk6\n",
      "Sentiment(polarity=0.0, subjectivity=0.0)\n",
      "RT @bitindia_co: Blockchain in India, 3 Years from Now - Let's Foretell the Future\n",
      "https://t.co/9mRKMLhi1W\n",
      "#bitindia#india #blockchain @app…\n",
      "Sentiment(polarity=0.0, subjectivity=0.125)\n",
      "RT @cpdfootball: #FIFAU17WC - Starting Line-ups: 🇮🇳 India v Colombia 🇨🇴 | 🔖 #FootballTakesOver #INDvCOL #IndianFootball #India #USA #lineup…\n",
      "Sentiment(polarity=0.0, subjectivity=0.1)\n",
      "RT @iAnkurSingh: Never thought someone can stoop this low just to score few political points #Shame https://t.co/7EBPOtzT8j\n",
      "Sentiment(polarity=-0.06666666666666667, subjectivity=0.16666666666666666)\n",
      "David Warner says Australia cricket team following Steve Smith's leadership skills… https://t.co/XAjN8pnJMc\n",
      "Sentiment(polarity=0.0, subjectivity=0.1)\n",
      "RT @bhaiyyajispeaks: India, where Jalikattu is cruelty, Muharram is sacred, Jhatka is trauma, Halaal is tender, Slaughtering is fine, Fire…\n",
      "Sentiment(polarity=0.4166666666666667, subjectivity=0.5)\n",
      "India out to clinch series on Guwahati's T20I debut - Cricbuzz https://t.co/M5l9IHC5qx\n",
      "Sentiment(polarity=0.0, subjectivity=0.0)\n",
      "Kuldeep Yadav dismisses talk of replacing Ravichandran Ashwin, Ravindra Jadeja - Hindustan… https://t.co/PVRHqOuFJx\n",
      "Sentiment(polarity=0.0, subjectivity=0.0)\n",
      "RT @ethlend1: ETHLend participates in Blockchain Business Conference in Vizag, India #ETHLend #Ethereum #blockchain https://t.co/ySgw5NxpSU…\n",
      "Sentiment(polarity=0.0, subjectivity=0.0)\n",
      "RT @kryataejiminie: @MarriedHyungwon India @jihoonie_muru\n",
      "Sentiment(polarity=0.0, subjectivity=0.0)\n"
     ]
    }
   ],
   "source": [
    "public_tweets=api.search('India')\n",
    "for tweets in public_tweets:\n",
    "    print(tweets.text)\n",
    "    analysis = TextBlob(tweets.text)\n",
    "    print(analysis.sentiment)"
   ]
  },
  {
   "cell_type": "code",
   "execution_count": null,
   "metadata": {
    "collapsed": true
   },
   "outputs": [],
   "source": []
  }
 ],
 "metadata": {
  "kernelspec": {
   "display_name": "Python 3",
   "language": "python",
   "name": "python3"
  },
  "language_info": {
   "codemirror_mode": {
    "name": "ipython",
    "version": 3
   },
   "file_extension": ".py",
   "mimetype": "text/x-python",
   "name": "python",
   "nbconvert_exporter": "python",
   "pygments_lexer": "ipython3",
   "version": "3.6.1"
  }
 },
 "nbformat": 4,
 "nbformat_minor": 2
}
